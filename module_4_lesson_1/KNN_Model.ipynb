{
 "cells": [
  {
   "cell_type": "code",
   "execution_count": 1,
   "metadata": {
    "collapsed": true
   },
   "outputs": [],
   "source": [
    "import numpy as np\n",
    "import graphlab\n",
    "from scipy.sparse import csr_matrix\n",
    "from scipy.sparse.linalg import norm\n",
    "from sklearn.metrics.pairwise import pairwise_distances\n",
    "import time\n",
    "from copy import copy\n",
    "import matplotlib.pyplot as plt\n",
    "%matplotlib inline"
   ]
  },
  {
   "cell_type": "code",
   "execution_count": null,
   "metadata": {
    "collapsed": true
   },
   "outputs": [],
   "source": []
  },
  {
   "cell_type": "code",
   "execution_count": null,
   "metadata": {
    "collapsed": true
   },
   "outputs": [],
   "source": [
    "class knn_model():\n",
    "    \n",
    "    def __init__(__self__, data):\n",
    "    \n",
    "    def generate_random_vectors(num_vector, dim):\n",
    "        return np.random.randn(dim, num_vector)\n",
    "        \n",
    "    def train(__self__, num_vector):\n",
    "        num_dim = __self__.data.shape[1];\n",
    "        # generate random lines that will divide data into seperated beens\n",
    "        random_lines = generate_random_vectors(num_vector, num_dim);\n",
    "        # to covert the binary array of bean key into integer number by getting the do dot product of powers of two times the \n",
    "        # vector of 0,1... of position of data point in  \n",
    "        powers_of_two = 1 << (np.arange(num_vector,-1,-1));"
   ]
  }
 ],
 "metadata": {
  "kernelspec": {
   "display_name": "Python 2",
   "language": "python",
   "name": "python2"
  },
  "language_info": {
   "codemirror_mode": {
    "name": "ipython",
    "version": 2
   },
   "file_extension": ".py",
   "mimetype": "text/x-python",
   "name": "python",
   "nbconvert_exporter": "python",
   "pygments_lexer": "ipython2",
   "version": "2.7.12"
  }
 },
 "nbformat": 4,
 "nbformat_minor": 0
}
