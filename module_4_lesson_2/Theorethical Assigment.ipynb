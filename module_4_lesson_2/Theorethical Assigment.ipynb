{
 "cells": [
  {
   "cell_type": "code",
   "execution_count": 53,
   "metadata": {
    "collapsed": true
   },
   "outputs": [],
   "source": [
    "import numpy as np;"
   ]
  },
  {
   "cell_type": "code",
   "execution_count": 58,
   "metadata": {
    "collapsed": true
   },
   "outputs": [],
   "source": [
    "data = ((-1.88,2.05), \n",
    "        (-0.71,0.42), \n",
    "        (2.41,-0.67),\n",
    "        (1.85,-3.80),\n",
    "        (-3.69,-1.33));\n",
    "data = np.array(data);"
   ]
  },
  {
   "cell_type": "code",
   "execution_count": 126,
   "metadata": {
    "collapsed": false
   },
   "outputs": [],
   "source": [
    "clasters = ((2.00,2.00), (-2.00,-2.00))\n",
    "clasters = np.array(clasters);"
   ]
  },
  {
   "cell_type": "code",
   "execution_count": 127,
   "metadata": {
    "collapsed": false
   },
   "outputs": [],
   "source": [
    "from operator import add\n",
    "    \n",
    "labels = np.zeros(data.shape[0]);\n",
    "labels_history = np.zeros(data.shape[0]);\n",
    "data_updates_history = [];\n",
    "\n",
    "def compute_distance_to_cluster(point, classter):\n",
    "    dif = classter-point;\n",
    "    dif = dif.dot(dif);\n",
    "    return dif;\n",
    "\n",
    "def find_closest_cluster(clasters, data_point):\n",
    "    distances = [];\n",
    "    for claster in clasters:\n",
    "        distances.append(compute_distance_to_cluster(data_point, claster));\n",
    "    index =  distances.index(min(distances));\n",
    "    return index;\n",
    "def assighn_data_lables(data, clusters):\n",
    "    for i in xrange(0, len(data)):\n",
    "        claster_index = find_closest_cluster(clusters, data[i]);\n",
    "        if claster_index!=labels[i]:\n",
    "            labels_history[i]+=1;\n",
    "        labels[i]=claster_index;\n",
    "\n",
    "def compute_classter_center(data):\n",
    "    sum_ = np.zeros(data.shape[1]);\n",
    "    for i in xrange(1, data.shape[0]):\n",
    "        sum_ = data[i-1]+data[i];\n",
    "    return sum_/data.shape[0];\n",
    "\n",
    "def recompute_classter_centers(data):\n",
    "    new_cluster = [];\n",
    "    for i in xrange(0, clasters.shape[0]):\n",
    "        mask = (labels==i);\n",
    "        subset = data[mask];\n",
    "        clasters[i] = compute_classter_center(subset);"
   ]
  },
  {
   "cell_type": "code",
   "execution_count": 131,
   "metadata": {
    "collapsed": false
   },
   "outputs": [
    {
     "name": "stdout",
     "output_type": "stream",
     "text": [
      "[ 0.  2.  0.  1.  1.]\n"
     ]
    }
   ],
   "source": [
    "for i in xrange(0,100):\n",
    "    assighn_data_lables(data, clasters);\n",
    "    recompute_classter_centers(data);\n",
    "print labels_history;"
   ]
  },
  {
   "cell_type": "code",
   "execution_count": null,
   "metadata": {
    "collapsed": true
   },
   "outputs": [],
   "source": []
  },
  {
   "cell_type": "code",
   "execution_count": null,
   "metadata": {
    "collapsed": true
   },
   "outputs": [],
   "source": []
  }
 ],
 "metadata": {
  "kernelspec": {
   "display_name": "Python 2",
   "language": "python",
   "name": "python2"
  },
  "language_info": {
   "codemirror_mode": {
    "name": "ipython",
    "version": 2
   },
   "file_extension": ".py",
   "mimetype": "text/x-python",
   "name": "python",
   "nbconvert_exporter": "python",
   "pygments_lexer": "ipython2",
   "version": "2.7.12"
  }
 },
 "nbformat": 4,
 "nbformat_minor": 0
}
