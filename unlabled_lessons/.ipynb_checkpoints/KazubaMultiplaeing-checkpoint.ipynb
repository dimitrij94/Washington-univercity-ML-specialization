{
 "cells": [
  {
   "cell_type": "code",
   "execution_count": 50,
   "metadata": {
    "collapsed": false
   },
   "outputs": [
    {
     "name": "stdout",
     "output_type": "stream",
     "text": [
      "----------------\n",
      "1234\n",
      "5678\n",
      "----------------\n",
      "--a--b--c--d\n",
      "12\n",
      "34\n",
      "56\n",
      "78\n",
      "----------------\n",
      "12\n",
      "56\n",
      "----------------\n",
      "--a--b--c--d\n",
      "1\n",
      "2\n",
      "5\n",
      "6\n",
      "--ac--\n",
      "5\n",
      "--bd--\n",
      "12\n",
      "!!!!\n",
      "3\n",
      "11\n",
      "!!!!\n",
      "----------------\n",
      "34\n",
      "78\n",
      "----------------\n",
      "--a--b--c--d\n",
      "3\n",
      "4\n",
      "7\n",
      "8\n",
      "--ac--\n",
      "21\n",
      "--bd--\n",
      "32\n",
      "!!!!\n",
      "7\n",
      "15\n",
      "!!!!\n",
      "!!!!\n",
      "46\n",
      "134\n",
      "!!!!\n",
      "--(a+b)+(c+d)---\n"
     ]
    },
    {
     "ename": "UnboundLocalError",
     "evalue": "local variable 'adMcb' referenced before assignment",
     "output_type": "error",
     "traceback": [
      "\u001b[1;31m---------------------------------------------------------------------------\u001b[0m",
      "\u001b[1;31mUnboundLocalError\u001b[0m                         Traceback (most recent call last)",
      "\u001b[1;32m<ipython-input-50-5cf6d928840d>\u001b[0m in \u001b[0;36m<module>\u001b[1;34m()\u001b[0m\n\u001b[0;32m     65\u001b[0m     \u001b[1;32mreturn\u001b[0m \u001b[0msum\u001b[0m\u001b[1;33m;\u001b[0m\u001b[1;33m\u001b[0m\u001b[0m\n\u001b[0;32m     66\u001b[0m \u001b[1;33m\u001b[0m\u001b[0m\n\u001b[1;32m---> 67\u001b[1;33m \u001b[0mresult\u001b[0m \u001b[1;33m=\u001b[0m \u001b[0mmultiKaz\u001b[0m\u001b[1;33m(\u001b[0m\u001b[1;36m1234\u001b[0m\u001b[1;33m,\u001b[0m\u001b[1;36m5678\u001b[0m\u001b[1;33m)\u001b[0m\u001b[1;33m;\u001b[0m\u001b[1;33m\u001b[0m\u001b[0m\n\u001b[0m\u001b[0;32m     68\u001b[0m \u001b[1;33m\u001b[0m\u001b[0m\n\u001b[0;32m     69\u001b[0m \u001b[1;32mprint\u001b[0m\u001b[1;33m(\u001b[0m\u001b[0mresult\u001b[0m\u001b[1;33m)\u001b[0m\u001b[1;33m;\u001b[0m\u001b[1;33m\u001b[0m\u001b[0m\n",
      "\u001b[1;32m<ipython-input-50-5cf6d928840d>\u001b[0m in \u001b[0;36mmultiKaz\u001b[1;34m(x1, x2)\u001b[0m\n\u001b[0;32m     55\u001b[0m     \u001b[1;32mif\u001b[0m \u001b[0misNotSimple\u001b[0m\u001b[1;33m(\u001b[0m\u001b[0mapb\u001b[0m\u001b[1;33m,\u001b[0m\u001b[0mcpd\u001b[0m\u001b[1;33m)\u001b[0m\u001b[1;33m:\u001b[0m\u001b[1;33m\u001b[0m\u001b[0m\n\u001b[0;32m     56\u001b[0m         \u001b[1;32mprint\u001b[0m\u001b[1;33m(\u001b[0m\u001b[1;34m\"--(a+b)+(c+d)---\"\u001b[0m\u001b[1;33m)\u001b[0m\u001b[1;33m\u001b[0m\u001b[0m\n\u001b[1;32m---> 57\u001b[1;33m         \u001b[1;32mprint\u001b[0m\u001b[1;33m(\u001b[0m\u001b[0madMcb\u001b[0m\u001b[1;33m)\u001b[0m\u001b[1;33m\u001b[0m\u001b[0m\n\u001b[0m\u001b[0;32m     58\u001b[0m         \u001b[0madMcd\u001b[0m\u001b[1;33m=\u001b[0m\u001b[0mmultiKaz\u001b[0m\u001b[1;33m(\u001b[0m\u001b[0mapb\u001b[0m\u001b[1;33m,\u001b[0m\u001b[0mcpd\u001b[0m\u001b[1;33m)\u001b[0m\u001b[1;33m-\u001b[0m\u001b[0mac\u001b[0m\u001b[1;33m-\u001b[0m\u001b[0mbd\u001b[0m\u001b[1;33m;\u001b[0m\u001b[1;33m\u001b[0m\u001b[0m\n\u001b[0;32m     59\u001b[0m     \u001b[1;32melse\u001b[0m\u001b[1;33m:\u001b[0m\u001b[1;33m\u001b[0m\u001b[0m\n",
      "\u001b[1;31mUnboundLocalError\u001b[0m: local variable 'adMcb' referenced before assignment"
     ]
    }
   ],
   "source": [
    "isNotSimple = lambda x1,x2: (len(str(x1))>1 and len(str(x2))>1)\n",
    "addZero = lambda x: int('0'+str(x))\n",
    "      \n",
    "def multiKaz(x1,x2):\n",
    "    x1=str(x1)\n",
    "    x2=str(x2)\n",
    "    \n",
    "    print(\"----------------\")\n",
    "    print(x1);\n",
    "    print(x2);\n",
    "    print(\"----------------\")\n",
    "    \n",
    "    \n",
    "    l1=len(x1);\n",
    "    l2=len(x2);\n",
    "    \n",
    "    if(l1!=l2):\n",
    "        i=0;\n",
    "        while i<abs(l1-l2):\n",
    "            x1=addZero(x1);\n",
    "            i=i+1;\n",
    "            \n",
    "    l= l1 if(l1>l2) else l2;\n",
    "    \n",
    "    a=int(x1[:(l/2)]);\n",
    "    c=int(x2[:(l/2)]);\n",
    "    b=int(x1[(l/2):]);\n",
    "    d=int(x2[(l/2):]);\n",
    "    print(\"--a--b--c--d\")\n",
    "    print(a)\n",
    "    print(b)\n",
    "    print(c)\n",
    "    print(d)\n",
    "    \n",
    "    ac=0;\n",
    "    if isNotSimple(a,c):\n",
    "        ac=multiKaz(a,c);\n",
    "    else:\n",
    "        ac=a*c;\n",
    "        print(\"--ac--\")\n",
    "        print(ac)\n",
    "          \n",
    "    if isNotSimple(b,d):\n",
    "        bd=multiKaz(b,d);\n",
    "    else:\n",
    "        bd=b*d;\n",
    "        print(\"--bd--\")\n",
    "        print(bd)\n",
    "    apb=a+b;\n",
    "    cpd=c+d;\n",
    "    print(\"!!!!\")\n",
    "    print(apb)\n",
    "    print(cpd)\n",
    "    print(\"!!!!\")\n",
    "    if isNotSimple(apb,cpd):\n",
    "        adMcd=multiKaz(apb,cpd)-ac-bd;\n",
    "    else:\n",
    "        adMcb=apb*cpd-ac-bd;\n",
    "        \n",
    "        \n",
    "    sum=(10 ** l)*ac+(10 ** (l/2))*adMcb+bd;\n",
    "    \n",
    "    return sum;\n",
    "\n",
    "result = multiKaz(1234,5678);\n",
    "\n",
    "print(result);"
   ]
  },
  {
   "cell_type": "code",
   "execution_count": null,
   "metadata": {
    "collapsed": true
   },
   "outputs": [],
   "source": []
  },
  {
   "cell_type": "code",
   "execution_count": null,
   "metadata": {
    "collapsed": true
   },
   "outputs": [],
   "source": []
  },
  {
   "cell_type": "code",
   "execution_count": null,
   "metadata": {
    "collapsed": false
   },
   "outputs": [],
   "source": []
  },
  {
   "cell_type": "code",
   "execution_count": null,
   "metadata": {
    "collapsed": true
   },
   "outputs": [],
   "source": []
  }
 ],
 "metadata": {
  "kernelspec": {
   "display_name": "Python 2",
   "language": "python",
   "name": "python2"
  },
  "language_info": {
   "codemirror_mode": {
    "name": "ipython",
    "version": 2
   },
   "file_extension": ".py",
   "mimetype": "text/x-python",
   "name": "python",
   "nbconvert_exporter": "python",
   "pygments_lexer": "ipython2",
   "version": "2.7.10"
  }
 },
 "nbformat": 4,
 "nbformat_minor": 0
}
