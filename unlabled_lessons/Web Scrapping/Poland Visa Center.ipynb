{
 "cells": [
  {
   "cell_type": "code",
   "execution_count": 1,
   "metadata": {
    "collapsed": false
   },
   "outputs": [
    {
     "name": "stdout",
     "output_type": "stream",
     "text": [
      "2.7.10 |Anaconda 2.3.0 (64-bit)| (default, May 28 2015, 16:44:52) [MSC v.1500 64 bit (AMD64)]\n"
     ]
    }
   ],
   "source": [
    "import sys;\n",
    "print sys.version"
   ]
  },
  {
   "cell_type": "code",
   "execution_count": 3,
   "metadata": {
    "collapsed": false
   },
   "outputs": [],
   "source": [
    "from urllib import urlopen"
   ]
  },
  {
   "cell_type": "code",
   "execution_count": 9,
   "metadata": {
    "collapsed": false
   },
   "outputs": [],
   "source": [
    "html_page = urlopen(\"http://www.polandvisa-ukraine.com/English/scheduleappointment_2.html\")"
   ]
  },
  {
   "cell_type": "code",
   "execution_count": 10,
   "metadata": {
    "collapsed": false
   },
   "outputs": [
    {
     "name": "stdout",
     "output_type": "stream",
     "text": [
      "﻿<!DOCTYPE html PUBLIC \"-//W3C//DTD XHTML 1.0 Transitional//EN\" \"http://www.w3.org/TR/xhtml1/DTD/xhtml1-transitional.dtd\">\r\n",
      "<html xmlns=\"http://www.w3.org/1999/xhtml\">\r\n",
      "\t<head>\r\n",
      "\t\t<title>Poland Visa Information - Ukraine - Schedule Appointment</title>\r\n",
      "\t\t<link rel=\"shortcut icon\" type=\"image/x-icon\" href=\"images/poland.png\">\r\n",
      "\t\t\t<meta http-equiv=\"Content-Type\" content=\"text/html; charset=utf-8\">\r\n",
      "\t\t\t<link href=\"css/style.css\" rel=\"stylesheet\" type=\"text/css\">\r\n",
      "\t\t\t\t<link href=\"fontmenu/default.css\" rel=\"stylesheet\" type=\"text/css\">\r\n",
      "\t\t\t\t\t<script type=\"text/javascript\" src=\"fontmenu/jquery.js\"></script>\r\n",
      "\t\t\t\t\t<script type=\"text/javascript\" src=\"fontmenu/jquery.jfontsizer.js\"></script>\r\n",
      "\t\t\t\t\t<script type=\"text/javascript\">\r\n",
      "\r\n",
      "                    $(document).ready(function(){\r\n",
      "\r\n",
      "                        $('#fontsizer').jfontsizer({\r\n",
      "\r\n",
      "                            applyTo: '#content',\r\n",
      "\r\n",
      "                            changesmall: '2',\r\n",
      "\r\n",
      "                            changelarge: '2',\r\n",
      "\r\n",
      "                            expire: 30\r\n",
      "\r\n",
      "                        });\r\n",
      "\r\n",
      "        \r\n",
      "\r\n",
      "                        $('#fontsizer2').jfontsizer({\r\n",
      "\r\n",
      "                            applyTo: '#content2',\r\n",
      "\r\n",
      "                            changesmall: '2',\r\n",
      "\r\n",
      "                            changelarge: '2',\r\n",
      "\r\n",
      "                            expire: 30\r\n",
      "\r\n",
      "                        });\r\n",
      "\r\n",
      "                    });\r\n",
      "\r\n",
      "\t\t\t\t\t</script>\r\n",
      "\t\t\t\t\t<script type=\"text/javascript\" src=\"js/jquery.js\"></script>\r\n",
      "\t\t\t\t\t<script type=\"text/javascript\">\r\n",
      "$(document).ready(function(){\r\n",
      "\t//hide the all of the element with class msg_body\r\n",
      "\t$(\".msg_body\").hide();\r\n",
      "\t//toggle the componenet with class msg_body\r\n",
      "\t$(\".msg_head\").click(function(){\r\n",
      "\t\t$(this).next(\".msg_body\").slideToggle(600);\r\n",
      "\t});\r\n",
      "});\r\n",
      "\t\t\t\t\t</script>\r\n",
      "\t\t\t\t\t<script type=\"text/javascript\">\r\n",
      "\r\n",
      "function menu(whichMenu,whatState)\r\n",
      "{\r\n",
      "    if(document.getElementById)\r\n",
      "    {\r\n",
      "      var chk = document.getElementById('HidLoginNew').value ;\r\n",
      "     \r\n",
      "        if(chk == 0)\r\n",
      "        {\r\n",
      "            document.getElementById(whichMenu).style.display=whatState;\r\n",
      "        }\r\n",
      "        else \r\n",
      "        {\r\n",
      "            document.getElementById(whichMenu).style.display = \"none\";\r\n",
      "        }\r\n",
      "    }\r\n",
      "    else\r\n",
      "    {\r\n",
      "        var chk = document.getElementById('HidLoginNew').value ;\r\n",
      "       \r\n",
      "        if(chk == 0)\r\n",
      "        {\r\n",
      "            document[whichMenu].display=whatState;\r\n",
      "        }\r\n",
      "        else \r\n",
      "        {\r\n",
      "            document[whichMenu].display=\"none\";\r\n",
      "        }\r\n",
      "    }\r\n",
      "}\r\n",
      "\r\n",
      "\r\n",
      "\t\t\t\t\t</script>\r\n",
      "\t<script src=\"http://ajax.googleapis.com/ajax/libs/jquery/1.6.0/jquery.min.js\" type=\"text/javascript\"></script>\r\n",
      "<script type=\"text/javascript\" src=\"feedback_form/feedback_form.js\"></script>\r\n",
      "</head>\r\n",
      "\t<body>\r\n",
      "\t\t<div class=\"maindiv\">\r\n",
      "\t\t\t<input type=\"hidden\" id=\"HidLoginNew\"> \r\n",
      "\t\t\t<!--topbar -->\r\n",
      "\t\t\t<input type=\"hidden\" id=\"HidLoginNew\"> \r\n",
      "\t\t\t<!--<input type=\"hidden\" id=\"HidLoginNew\"/>-->\r\n",
      "\t\t\t<!--topbar -->\r\n",
      "\t\t\t<div><img src=\"images/banner.jpg\" width=\"986\" height=\"161\" alt=\"\" border=\"0\"></div>\r\n",
      "\t\t\t<div class=\"tophometab\"></div>\r\n",
      "\t\t\t<div class=\"topbararea3\">\r\n",
      "\t\t\t\t<div class=\"countrybox\">\r\n",
      "\t\t\t\t\t<div class=\"text\"><div class=\"span style2\" style=\"PADDING-TOP:6px\">Apply for</div>\r\n",
      "\t\t\t\t\t\t<span class=\"style2\">VISA to Poland</span></div>\r\n",
      "\t\t\t\t\t<div class=\"flag\"><img src=\"images/poland_flag.jpg\" alt=\"\" border=\"0\"></div>\r\n",
      "\t\t\t\t</div>\r\n",
      "\t\t\t\t<div class=\"languages\">\r\n",
      "\t\t\t\t\t<div class=\"text\">In<br>\r\n",
      "\t\t\t\t\t\tUkraine</div>\r\n",
      "\t\t\t\t</div>\r\n",
      "\t\t\t\t<!--topbarleft -->\r\n",
      "\t\t\t\t<div class=\"topbarright3\"></div>\r\n",
      "\t\t\t\t<!--topbarright -->\r\n",
      "\t\t\t</div>\r\n",
      "\t\t\t<div>\r\n",
      "\t\t\t\t<table width=\"100%\" border=\"0\" cellspacing=\"0\" cellpadding=\"0\">\r\n",
      "\t\t\t\t\t<tr>\r\n",
      "\t\t\t\t\t\t<td valign=\"top\" width=\"7\"></td>\r\n",
      "\t\t\t\t\t\t<td valign=\"top\" width=\"7\"></td>\r\n",
      "\t\t\t\t\t\t<td valign=\"top\"><table width=\"100%\" border=\"0\" cellspacing=\"0\" cellpadding=\"0\">\r\n",
      "\t\t\t\t\t\t\t\t<tr>\r\n",
      "\t\t\t\t\t\t\t\t\t<td height=\"400\" valign=\"top\" class=\"middlearea1\"><!--middlediv -->\r\n",
      "\t\t\t\t\t\t\t\t\t\t<!--breadcrumb --> <!--breadcrumb -->\r\n",
      "\t\t\t\t\t\t\t\t\t\t<div style=\"PADDING-RIGHT:10px; PADDING-LEFT:10px\"><div class=\"middleheader\" >Schedule Appointment</div>\r\n",
      "\t\t\t\t\t\t\t\t\t\t<!--bullet and text-->\r\n",
      "\t\t\t\t\t\t\t\t\t\t</div>\r\n",
      "                                        <iframe style=\" WIDTH:950px; BORDER-TOP-STYLE:none; BORDER-RIGHT-STYLE:none; BORDER-LEFT-STYLE:none; HEIGHT:400px; BORDER-BOTTOM-STYLE:none\"\r\n",
      "\t\t\t\t\t\t\t\t\t\t\tallowtransparency frameborder=\"0\" scrolling=\"yes\" src=\"https://polandonline.vfsglobal.com/poland-ukraine-appointment/(S(050ypg55oonkqejsflpgm445))/AppScheduling/AppWelcome.aspx?P=s2x6znRcBRv7WQQK7h4MTnRfnp06lzlPrFCdHEUl1mc=\"></iframe>\r\n",
      "\t\t\t\t\t\t\t\t\t\t\r\n",
      "\t\t\t\t\t\t\t\t\t\t<!--middlediv --></td>\r\n",
      "\t\t\t\t\t\t\t\t</tr>\r\n",
      "\t\t\t\t\t\t\t\t<tr>\r\n",
      "\t\t\t\t\t\t\t\t\t<td height=\"12\"></td>\r\n",
      "\t\t\t\t\t\t\t\t</tr>\r\n",
      "\t\t\t\t\t\t\t\t<tr>\r\n",
      "\t\t\t\t\t\t\t\t\t<td><div class=\"righttext\" align=\"center\">Copyright\r\n",
      "\t\t\t\t\t\t\t\t\t\t\t<script type=\"text/javascript\">var year = new Date();document.write(year.getFullYear());</script>\r\n",
      "\t\t\t\t\t\t\t\t\t\t\t. VFS Global. All Rights Reserved.\r\n",
      "\t\t\t\t\t\t\t\t\t\t</div>\r\n",
      "\t\t\t\t\t\t\t\t\t</td>\r\n",
      "\t\t\t\t\t\t\t\t</tr>\r\n",
      "\t\t\t\t\t\t\t\t<tr>\r\n",
      "\t\t\t\t\t\t\t\t\t<td height=\"12\"></td>\r\n",
      "\t\t\t\t\t\t\t\t</tr>\r\n",
      "\t\t\t\t\t\t\t</table>\r\n",
      "\t\t\t\t\t\t</td>\r\n",
      "\t\t\t\t\t\t<td valign=\"top\" width=\"7\"></td>\r\n",
      "\t\t\t\t\t\t<td valign=\"top\" width=\"7\"></td>\r\n",
      "\t\t\t\t\t</tr>\r\n",
      "\t\t\t\t\t<tr>\r\n",
      "\t\t\t\t\t\t<td colspan=\"7\" valign=\"top\" height=\"8\"></td>\r\n",
      "\t\t\t\t\t</tr>\r\n",
      "\t\t\t\t</table>\r\n",
      "\t\t\t</div>\r\n",
      "\t\t</div>\r\n",
      "\t\t<!--maintable -->\r\n",
      "\t</body>\r\n",
      "</html>\r\n",
      "\n"
     ]
    }
   ],
   "source": [
    "print html_page.read()"
   ]
  },
  {
   "cell_type": "code",
   "execution_count": null,
   "metadata": {
    "collapsed": true
   },
   "outputs": [],
   "source": []
  },
  {
   "cell_type": "code",
   "execution_count": null,
   "metadata": {
    "collapsed": true
   },
   "outputs": [],
   "source": []
  }
 ],
 "metadata": {
  "kernelspec": {
   "display_name": "Python 2",
   "language": "python",
   "name": "python2"
  },
  "language_info": {
   "codemirror_mode": {
    "name": "ipython",
    "version": 2
   },
   "file_extension": ".py",
   "mimetype": "text/x-python",
   "name": "python",
   "nbconvert_exporter": "python",
   "pygments_lexer": "ipython2",
   "version": "2.7.10"
  }
 },
 "nbformat": 4,
 "nbformat_minor": 0
}
